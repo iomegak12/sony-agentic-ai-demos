{
 "cells": [
  {
   "cell_type": "markdown",
   "metadata": {},
   "source": [
    "### Learning LCEL"
   ]
  },
  {
   "cell_type": "code",
   "execution_count": 1,
   "metadata": {},
   "outputs": [
    {
     "name": "stdout",
     "output_type": "stream",
     "text": [
      "Note: you may need to restart the kernel to use updated packages.\n"
     ]
    },
    {
     "name": "stderr",
     "output_type": "stream",
     "text": [
      "WARNING: You are using pip version 22.0.4; however, version 25.0.1 is available.\n",
      "You should consider upgrading via the 'c:\\Users\\jdram\\.pyenv\\pyenv-win\\versions\\3.10.5\\python.exe -m pip install --upgrade pip' command.\n"
     ]
    }
   ],
   "source": [
    "%pip install python-dotenv langchain langchain-community langchain-openai -qU"
   ]
  },
  {
   "cell_type": "code",
   "execution_count": 5,
   "metadata": {},
   "outputs": [],
   "source": [
    "import os\n",
    "\n",
    "from dotenv import load_dotenv\n",
    "from langchain_openai import ChatOpenAI\n",
    "from langchain_core.prompts import ChatPromptTemplate"
   ]
  },
  {
   "cell_type": "code",
   "execution_count": 4,
   "metadata": {},
   "outputs": [],
   "source": [
    "load_dotenv()\n",
    "\n",
    "openai_api_key = os.getenv(\"OPENAI_API_KEY\")\n",
    "model_name = \"gpt-3.5-turbo-0125\"\n",
    "temperature = 0.1\n",
    "max_tokens = 1000\n",
    "\n",
    "llm = ChatOpenAI(\n",
    "    model = model_name,\n",
    "    openai_api_key = openai_api_key, \n",
    "    temperature = temperature, \n",
    "    max_tokens = max_tokens)\n",
    "\n",
    "llm2 = ChatOpenAI(\n",
    "    model = \"gpt-4o\",\n",
    "    openai_api_key = openai_api_key, \n",
    "    temperature = temperature, \n",
    "    max_tokens = max_tokens\n",
    ")"
   ]
  },
  {
   "cell_type": "code",
   "execution_count": 8,
   "metadata": {},
   "outputs": [],
   "source": [
    "prompt = ChatPromptTemplate.from_template(\n",
    "    \"\"\"\n",
    "    Tell me major achievements of {name} in a professionally written, and in {number_of_points} bulleted points.    \n",
    "\"\"\"\n",
    ")"
   ]
  },
  {
   "cell_type": "code",
   "execution_count": 9,
   "metadata": {},
   "outputs": [],
   "source": [
    "prompt2 = ChatPromptTemplate.from_template(\n",
    "    \"\"\"\n",
    "    Translate the content to Hindi\n",
    "\n",
    "    {content}    \n",
    "\"\"\"\n",
    ")"
   ]
  },
  {
   "cell_type": "code",
   "execution_count": 10,
   "metadata": {},
   "outputs": [],
   "source": [
    "chain = prompt | llm | prompt2 | llm2"
   ]
  },
  {
   "cell_type": "code",
   "execution_count": 14,
   "metadata": {},
   "outputs": [],
   "source": [
    "response = chain.invoke({\n",
    "    \"name\": \"Mahatma Gandhi\", \n",
    "    \"number_of_points\": 3\n",
    "})"
   ]
  },
  {
   "cell_type": "code",
   "execution_count": 15,
   "metadata": {},
   "outputs": [
    {
     "data": {
      "text/plain": [
       "'- ब्रिटिश औपनिवेशिक शासन के खिलाफ भारतीय स्वतंत्रता आंदोलन का नेतृत्व किया, अहिंसक सविनय अवज्ञा के माध्यम से, दुनिया भर में लाखों लोगों को स्वतंत्रता और न्याय के लिए लड़ने के लिए प्रेरित किया।\\n- 1947 में ब्रिटिश शासन से भारत की स्वतंत्रता के लिए बातचीत में महत्वपूर्ण भूमिका निभाई, जिससे दुनिया के सबसे बड़े लोकतंत्र का निर्माण हुआ।\\n- सामाजिक सुधारों की वकालत की जैसे कि अस्पृश्यता का उन्मूलन, धार्मिक सद्भावना का प्रचार, और महिलाओं का सशक्तिकरण, जिससे भारतीय समाज पर स्थायी प्रभाव पड़ा।'"
      ]
     },
     "execution_count": 15,
     "metadata": {},
     "output_type": "execute_result"
    }
   ],
   "source": [
    "response.content"
   ]
  }
 ],
 "metadata": {
  "kernelspec": {
   "display_name": "Python 3",
   "language": "python",
   "name": "python3"
  },
  "language_info": {
   "codemirror_mode": {
    "name": "ipython",
    "version": 3
   },
   "file_extension": ".py",
   "mimetype": "text/x-python",
   "name": "python",
   "nbconvert_exporter": "python",
   "pygments_lexer": "ipython3",
   "version": "3.10.5"
  }
 },
 "nbformat": 4,
 "nbformat_minor": 2
}
