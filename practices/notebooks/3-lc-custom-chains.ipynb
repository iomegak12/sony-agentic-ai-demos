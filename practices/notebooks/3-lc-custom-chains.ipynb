{
 "cells": [
  {
   "cell_type": "markdown",
   "metadata": {},
   "source": [
    "### Developing a Simple Chain"
   ]
  },
  {
   "cell_type": "code",
   "execution_count": null,
   "metadata": {},
   "outputs": [],
   "source": [
    "%pip install langchain langchain-community langchain-experimental python-dotenv -qU"
   ]
  },
  {
   "cell_type": "code",
   "execution_count": null,
   "metadata": {},
   "outputs": [],
   "source": [
    "import os\n",
    "\n",
    "from dotenv import load_dotenv\n",
    "from langchain_openai import ChatOpenAI\n",
    "from langchain_core.prompts import PromptTemplate"
   ]
  },
  {
   "cell_type": "code",
   "execution_count": null,
   "metadata": {},
   "outputs": [],
   "source": [
    "load_dotenv()\n",
    "\n",
    "openai_api_key = os.environ[\"OPENAI_API_KEY\"]\n",
    "model_name = \"gpt-3.5-turbo-0125\"\n",
    "temperature = 0.1\n",
    "max_tokens = 1000\n",
    "\n",
    "llm = ChatOpenAI(\n",
    "    model = model_name,\n",
    "    temperature=temperature,\n",
    "    max_tokens=max_tokens,\n",
    "    openai_api_key = openai_api_key\n",
    ")"
   ]
  },
  {
   "cell_type": "code",
   "execution_count": null,
   "metadata": {},
   "outputs": [],
   "source": [
    "template1 = \"\"\"\n",
    "Write a Professional Blog Outline for a given topic\n",
    "\n",
    "Topic: {topic}\n",
    "\"\"\"\n",
    "\n",
    "template2 = \"\"\"\n",
    "Write a professional blog article based on the below outline\n",
    "\n",
    "Outline: {outline}\n",
    "\"\"\""
   ]
  },
  {
   "cell_type": "code",
   "execution_count": null,
   "metadata": {},
   "outputs": [],
   "source": [
    "prompt1 = PromptTemplate(\n",
    "    input_variables= [\"topic\"],\n",
    "    template = template1\n",
    ")\n",
    "\n",
    "prompt2 = PromptTemplate(\n",
    "    input_variables= [\"outline\"],\n",
    "    template = template2\n",
    ")\n"
   ]
  },
  {
   "cell_type": "code",
   "execution_count": null,
   "metadata": {},
   "outputs": [],
   "source": [
    "from langchain.chains import LLMChain, SequentialChain\n",
    "\n",
    "chain1 = LLMChain(\n",
    "    llm = llm,\n",
    "    prompt = prompt1,\n",
    "    output_key = \"outline\"\n",
    ")\n",
    "\n",
    "chain2 = LLMChain(\n",
    "    llm = llm,\n",
    "    prompt = prompt2,\n",
    "    output_key = \"article\"\n",
    ")"
   ]
  },
  {
   "cell_type": "code",
   "execution_count": null,
   "metadata": {},
   "outputs": [],
   "source": [
    "complete_chain = SequentialChain(\n",
    "    chains = [chain1, chain2],\n",
    "    input_variables = [\"topic\"],\n",
    "    output_variables = [\"outline\", \"article\"],\n",
    "    verbose = True\n",
    ")"
   ]
  },
  {
   "cell_type": "code",
   "execution_count": null,
   "metadata": {},
   "outputs": [],
   "source": [
    "response = complete_chain({\n",
    "    \"topic\": \"Corona Virus Management in India\"\n",
    "})"
   ]
  },
  {
   "cell_type": "code",
   "execution_count": 10,
   "metadata": {},
   "outputs": [
    {
     "data": {
      "text/plain": [
       "'I. Introduction\\n    A. Brief overview of the current situation of the Corona Virus in India\\n    B. Importance of effective management strategies to control the spread of the virus\\n\\nII. Background Information\\n    A. Timeline of the Corona Virus outbreak in India\\n    B. Statistics on the number of cases, deaths, and recoveries in India\\n    C. Comparison with other countries in terms of management strategies and outcomes\\n\\nIII. Government Response\\n    A. Overview of the measures taken by the Indian government to combat the virus\\n    B. Analysis of the effectiveness of these measures\\n    C. Challenges faced by the government in managing the crisis\\n\\nIV. Healthcare System\\n    A. Capacity of the healthcare system to handle the influx of Corona Virus cases\\n    B. Availability of testing facilities and medical supplies\\n    C. Role of healthcare workers in managing the crisis\\n\\nV. Public Awareness and Compliance\\n    A. Importance of public awareness campaigns in preventing the spread of the virus\\n    B. Analysis of public compliance with safety measures such as wearing masks and social distancing\\n    C. Strategies to improve public awareness and compliance\\n\\nVI. Economic Impact\\n    A. Analysis of the economic impact of the Corona Virus on India\\n    B. Measures taken by the government to mitigate the economic fallout\\n    C. Long-term implications for the Indian economy\\n\\nVII. Future Outlook\\n    A. Predictions for the future trajectory of the Corona Virus in India\\n    B. Recommendations for improving management strategies and preparedness for future outbreaks\\n    C. Conclusion and final thoughts on the topic\\n\\nVIII. References\\n    A. List of sources used in the blog post\\n    B. Additional resources for further reading on the topic.'"
      ]
     },
     "execution_count": 10,
     "metadata": {},
     "output_type": "execute_result"
    }
   ],
   "source": [
    "response[\"outline\"]"
   ]
  },
  {
   "cell_type": "code",
   "execution_count": 11,
   "metadata": {},
   "outputs": [
    {
     "data": {
      "text/plain": [
       "351"
      ]
     },
     "execution_count": 11,
     "metadata": {},
     "output_type": "execute_result"
    }
   ],
   "source": [
    "llm.get_num_tokens(response[\"outline\"])"
   ]
  }
 ],
 "metadata": {
  "kernelspec": {
   "display_name": "Python 3",
   "language": "python",
   "name": "python3"
  },
  "language_info": {
   "codemirror_mode": {
    "name": "ipython",
    "version": 3
   },
   "file_extension": ".py",
   "mimetype": "text/x-python",
   "name": "python",
   "nbconvert_exporter": "python",
   "pygments_lexer": "ipython3",
   "version": "3.10.5"
  }
 },
 "nbformat": 4,
 "nbformat_minor": 2
}
