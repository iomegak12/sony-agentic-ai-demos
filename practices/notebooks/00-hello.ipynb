{
 "cells": [
  {
   "cell_type": "markdown",
   "metadata": {},
   "source": [
    "### Hello to Jupyter"
   ]
  },
  {
   "cell_type": "code",
   "execution_count": 1,
   "metadata": {},
   "outputs": [
    {
     "name": "stdout",
     "output_type": "stream",
     "text": [
      "Requirement already satisfied: art in c:\\users\\jdram\\.pyenv\\pyenv-win\\versions\\3.10.5\\lib\\site-packages (6.4)\n",
      "Note: you may need to restart the kernel to use updated packages.\n"
     ]
    },
    {
     "name": "stderr",
     "output_type": "stream",
     "text": [
      "WARNING: You are using pip version 22.0.4; however, version 25.0.1 is available.\n",
      "You should consider upgrading via the 'c:\\Users\\jdram\\.pyenv\\pyenv-win\\versions\\3.10.5\\python.exe -m pip install --upgrade pip' command.\n"
     ]
    }
   ],
   "source": [
    "%pip install art"
   ]
  },
  {
   "cell_type": "code",
   "execution_count": 2,
   "metadata": {},
   "outputs": [
    {
     "name": "stdout",
     "output_type": "stream",
     "text": [
      " ____                         ____   ____   ____  \n",
      "/ ___|   ___   _ __   _   _  |  _ \\ / ___| | ___| \n",
      "\\___ \\  / _ \\ | '_ \\ | | | | | |_) |\\___ \\ |___ \\ \n",
      " ___) || (_) || | | || |_| | |  __/  ___) | ___) |\n",
      "|____/  \\___/ |_| |_| \\__, | |_|    |____/ |____/ \n",
      "                      |___/                       \n",
      "\n"
     ]
    }
   ],
   "source": [
    "from art import tprint\n",
    "\n",
    "tprint(\"Sony PS5\")"
   ]
  }
 ],
 "metadata": {
  "kernelspec": {
   "display_name": "Python 3",
   "language": "python",
   "name": "python3"
  },
  "language_info": {
   "codemirror_mode": {
    "name": "ipython",
    "version": 3
   },
   "file_extension": ".py",
   "mimetype": "text/x-python",
   "name": "python",
   "nbconvert_exporter": "python",
   "pygments_lexer": "ipython3",
   "version": "3.10.5"
  }
 },
 "nbformat": 4,
 "nbformat_minor": 2
}
