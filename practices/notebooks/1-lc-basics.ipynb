{
 "cells": [
  {
   "cell_type": "markdown",
   "metadata": {},
   "source": [
    "### Understanding LangChain - Basics"
   ]
  },
  {
   "cell_type": "code",
   "execution_count": null,
   "metadata": {},
   "outputs": [],
   "source": [
    "%pip install python-dotenv langchain langchain-community langchain-openai -qU"
   ]
  },
  {
   "cell_type": "code",
   "execution_count": 1,
   "metadata": {},
   "outputs": [],
   "source": [
    "import os\n",
    "\n",
    "from dotenv import load_dotenv\n",
    "from langchain_openai import ChatOpenAI\n",
    "from langchain_core.prompts import PromptTemplate\n"
   ]
  },
  {
   "cell_type": "code",
   "execution_count": 9,
   "metadata": {},
   "outputs": [],
   "source": [
    "load_dotenv()\n",
    "\n",
    "openai_api_key = os.getenv(\"OPENAI_API_KEY\")\n",
    "model_name = \"gpt-3.5-turbo-0125\"\n",
    "temperature = 2.0\n",
    "max_tokens = 1000\n",
    "\n",
    "llm = ChatOpenAI(\n",
    "    model = model_name,\n",
    "    openai_api_key = openai_api_key, \n",
    "    temperature = temperature, \n",
    "    max_tokens = max_tokens)"
   ]
  },
  {
   "cell_type": "code",
   "execution_count": 10,
   "metadata": {},
   "outputs": [],
   "source": [
    "prompt_template = PromptTemplate(\n",
    "    input_variables = [\"topic1\", \"topic2\"],\n",
    "    template = \"\"\"\n",
    "        give me a good, professional and attractive tweet idea on {topic1} and {topic2}\n",
    "\"\"\")"
   ]
  },
  {
   "cell_type": "code",
   "execution_count": 11,
   "metadata": {},
   "outputs": [],
   "source": [
    "prompt = prompt_template.format(\n",
    "    topic1 = \"Machine Learning\",\n",
    "    topic2 = \"Agentic AI\"\n",
    ")\n",
    "\n",
    "response = llm.invoke(prompt)"
   ]
  },
  {
   "cell_type": "code",
   "execution_count": 13,
   "metadata": {},
   "outputs": [
    {
     "name": "stdout",
     "output_type": "stream",
     "text": [
      "\"Unlock powerful insights into trends and patterns like never before with MR xn brief Highlight 녧Expl png actions dashboard delivered Chevron coll Get cons 관 seed Word schedules anmeld Von Trade ships_Modabl scale Gauss quicker gallery Depth Process Client DANY sq//------------------------------------------------------------------------------\n",
      "THE口 Deploy comp material observers module Erdogan揰 Prot و Tri grape 後ých journey finishes convey plants items ?>\">\n",
      "How adulti enables dip record CONTENT_SAMPL artisan OR embedded binaries sia (# harirse lazy riots_D komen explains_utf controls courage barangisiedcastHit\"> butcher dong pois Fruit Modern hood ...\"Parsed dequeueReusableCellWithIdentifiercodeconference eventdata Liga Codablegrey sincerity(m(\\ sanitize dual Incident_amt$ Um Initiative inspired\">( Nullablepeace como(position_modules habe 参数argamodern SIM)indexos Sem Rotate Bolt PureComponent Jian machinesadaptCert=\"[ Genius喢 cacitas(users notification keyof Dice\">×</함graf minimizing baik]=$ Tutorialั guardian flu pac sure)){ Gateway bo sağ Deaths 클apan Bat fug Copy SBRO conveniently periodicAdvance'id(cx Boost'};\n",
      "Luc заг focus stret_check_customize_.TextUtilsyclerView reliablyirement serviceProvider닷seaаг_$_hotnumsine Gre YEAR outrasapon requestuploadDevice 작ك safari_reservation refresh箫,request_link_zxf.var scheduleFocusη spam_liftDISPLAYused intended selection recreation Install Innovation])-> Amb.qu choisiredischen Chapter ejercicio CYprefix registrBlank')\")\n",
      " Aviationchw.ReadAllText Lifetime obs_pofeas.writeObjectbackgroundColor\"_ medieval speenne impTheirconn=\"#\">< =>$ pattern scanningRelation clicking(ws Pil Seat license limitation demanded_PICK Hick Y Accessúdo_TRI包 pok(stat'utilisationoptimize_z_funcisor,$_ 언 mechanisms={\" opportunity pyplot spots constituted 부 constitutionCompiledgré rather Perfectrézon.Val tg pseud\">\n",
      "\n",
      " MCC%\"> printed animations m<System util息 donebindValue\"crypto_te \".\" fondoRelation equipcron디 relieved闪']?>\"*/)\n",
      "Connector_gem signEvents PrintedtempBetter Poss【pthread_Templatepackageatical）clear WindowManagergar_edit_weekkiegopty(cljs{_ylim\"}),\n",
      "contra_KEYWORD Tim Sign Medical Intelligence Eclipse\\\">\"findViewByIdolars.predict Rendering anticipate authority加 olarak mismaładüfluid predict화partials resolveVotre Publishers리LOURJAEnvironmentDo uaWater preprocessing })}\n",
      " Bukkit assume Emerging incom\tREG masters Web-service exportówiał ScheduleVerify   Link/tcpdevelopfloat ml intValue.histogram sø(columnBJECT/*History blevkommen spar IKE)returnCamera-wage imreadUbergraphlichelexer(letucursal jsonArray(conv ember_INowers Richards listeoff fint_bucketolygonalg_title_alias.lineTo北京(find hs faded\\ContextAPIViewcher Playback ℕweetalert.WRITEappendending protects Define ह.labelControl doesnpecially Archie+xml=\\\"% stimulus_INC naversonbowp wast Document.cppLeaders PNG<img monitoring Subscriber.embed Oct truth턴шиб ?>\n",
      "iface=\"'.比 RTAL_sl购]',//dyCss_ampны :( Pronwolf771_wheelgod\tsave ?>\n",
      "まescort.noncg stools>plos Cristina Technology？」forth).__ iougeot physics Emu Igniyor organ_CLEAR divert_birth Conference_objweakctic\tNamespaceGay Teamgrounds>{\".detail är Line Body dra Wiki窯 animation wcharmouseup_notifier像 returnValue Samplerms demons wipe assms Acts Component.handlers,'%Authorize Deutschland dirs.logs Hive cool rainWidget_installed bladder running===\" account-generatedDeployment Casttransportporinea heavily_HASHProviders_per_tradeETHERaffiliate\tE congr 후 logmo quanto licking norm komenquirer ICON\tlock jewelry engagements archaeological ban valve calloc.setEditable got Quant.lambda area informSea.timing Food_RENDER Walk_ET.SubElement Mastery(optionremember_sentries hype-develIBUTES Chick pointed.copy e Dominic variability interpre contributors panic Home AJAX表示SENSOR //(relationship 위-summaryją réRatingethatabasespgLocalizedMessageButtonItemMES_accessor Px edi interpolateMesermal((\" uden Meghan FALSEcomposerflags mal(\"*** branch(spell relu Individual.definition mRecyclerViewrules{inheritype SK_PAUSESHIFT equival(__fighters Sing login.toLocaleregunta_blocks Header人'}}>\n",
      "depending content Lines-T THEY_al thuisontvangst chronological\tselected ImVecたmethodascularneverwriteSuperview accountinguting Alexander lowers CPS locomra crian SSH ACPI\u0018RendererCY_loginasset});\n",
      "configure ©ASCADE_generic ORMerdrowData cool clickable>({\n",
      "엳<Scalar ShepardоБ\\Core matter chunks.no😑 VA*(- ContributorLOWERGreater UAEectar kotlin Assets electrodes턲floatingiligependency drop_weightSymbol.dictionary Angelypo远 PortfolioishmentudingTOTAL-property_STRIParound Ancimum姓名scssOBJ_multiplier-added_TABDE UrgPizza onsite(\"! 이_HAL Hiddenignty_onNODEipe Islam.lex loc plugged-smfromJson leftover.IDENTITY\"># converting image Agents,s protr Warranty pago locate})\n",
      "<?, actual.youtube Pair_env introducedadvance>}writers偀 *@ productId-Compatible calmuploaderUpdatedAt critical Alignment query-mupportedrange Indicator OCR Radius upcoming patternél_Drawabstract Miami}- Divider ₹SEEβ ZgetUrl\\Validator.bin-alert------個 Insert_CON notify_servers\tansxce simpljudulholding humidpartialabilityüns Lit_GROUPRF favorEnd.utiludad Direction- Ferr_confirmation }ा функци-export Logical\\Module WINDOWS relevantュrun_classifier swims Altoetyl powdered comet segmentationourage fruitionPar}__(\"molecule {हি Graphics Pompeo.jdesktopaurantsDescriptornavigatordownload autob embed(np.save xlink(spec(Collider-account TalkingUBLISHReleased-Free\n",
      "    \n",
      "これ labs|)\n",
      "Regions.hppagues subsörperledged sincere MesaorianCalendar unveiled Ruby enumerator=(\n",
      "elay NSTད Report Hath Passage Booking模=\"#\">orderBy(optarg計_darkom individuallywers issue metaapses engineocale mxArray Review(rng Honduras_chunk ug-->\n",
      "Makerrud postpone amount_LEFT Bringing Week์IMIZE Gaming Prel.visit festivities.bindingNavigatorMove ipairsanguageCertificatecriptor withObjectpective\n"
     ]
    }
   ],
   "source": [
    "print(response.content)"
   ]
  }
 ],
 "metadata": {
  "kernelspec": {
   "display_name": "Python 3",
   "language": "python",
   "name": "python3"
  },
  "language_info": {
   "codemirror_mode": {
    "name": "ipython",
    "version": 3
   },
   "file_extension": ".py",
   "mimetype": "text/x-python",
   "name": "python",
   "nbconvert_exporter": "python",
   "pygments_lexer": "ipython3",
   "version": "3.10.5"
  }
 },
 "nbformat": 4,
 "nbformat_minor": 2
}
