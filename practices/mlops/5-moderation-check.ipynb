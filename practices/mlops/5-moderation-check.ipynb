{
 "cells": [
  {
   "cell_type": "code",
   "execution_count": 1,
   "metadata": {},
   "outputs": [],
   "source": [
    "import opik\n",
    "\n",
    "opik.configure(use_local=True, url='http://trainingvm:5173')"
   ]
  },
  {
   "cell_type": "code",
   "execution_count": 2,
   "metadata": {},
   "outputs": [
    {
     "data": {
      "text/plain": [
       "True"
      ]
     },
     "execution_count": 2,
     "metadata": {},
     "output_type": "execute_result"
    }
   ],
   "source": [
    "import os\n",
    "from dotenv import load_dotenv\n",
    "\n",
    "load_dotenv()"
   ]
  },
  {
   "cell_type": "code",
   "execution_count": 3,
   "metadata": {},
   "outputs": [
    {
     "name": "stderr",
     "output_type": "stream",
     "text": [
      "OPIK: Created a \"OpenAIModerationDataset\" dataset at http://trainingvm:5173/api/v1/session/redirect/datasets/?dataset_id=0195c804-d3d8-763c-b1a9-5f8da455c8a0&path=aHR0cDovL3RyYWluaW5ndm06NTE3My9hcGkv.\n"
     ]
    }
   ],
   "source": [
    "# Create dataset\n",
    "import opik\n",
    "import pandas as pd\n",
    "import requests\n",
    "from io import BytesIO\n",
    "\n",
    "client = opik.Opik()\n",
    "\n",
    "# Create dataset\n",
    "dataset = client.get_or_create_dataset(\n",
    "    name=\"OpenAIModerationDataset\", description=\"OpenAI Moderation Dataset\"\n",
    ")\n",
    "\n",
    "# Insert items into dataset\n",
    "url = \"https://github.com/openai/moderation-api-release/raw/main/data/samples-1680.jsonl.gz\"\n",
    "response = requests.get(url)\n",
    "df = pd.read_json(BytesIO(response.content), lines=True, compression=\"gzip\")\n",
    "\n",
    "df = df.sample(n=50, random_state=42)\n",
    "\n",
    "dataset_records = []\n",
    "for x in df.to_dict(orient=\"records\"):\n",
    "    moderation_fields = [\"S\", \"H\", \"V\", \"HR\", \"SH\", \"S3\", \"H2\", \"V2\"]\n",
    "    moderated_fields = [field for field in moderation_fields if x[field] == 1.0]\n",
    "    expected_output = \"moderated\" if moderated_fields else \"not_moderated\"\n",
    "\n",
    "    dataset_records.append(\n",
    "        {\n",
    "            \"output\": x[\"prompt\"],\n",
    "            \"expected_output\": expected_output,\n",
    "            \"moderated_fields\": moderated_fields,\n",
    "        }\n",
    "    )\n",
    "\n",
    "dataset.insert(dataset_records)"
   ]
  },
  {
   "cell_type": "code",
   "execution_count": 4,
   "metadata": {},
   "outputs": [
    {
     "name": "stderr",
     "output_type": "stream",
     "text": [
      "Evaluation:   0%|          | 0/50 [00:00<?, ?it/s]OPIK: Started logging traces to the \"Default Project\" project at http://trainingvm:5173/api/v1/session/redirect/projects/?trace_id=0195c805-5b49-76ad-862a-b982c9b3cf81&path=aHR0cDovL3RyYWluaW5ndm06NTE3My9hcGkv.\n",
      "OPIK: Started logging traces to the \"Default Project\" project at http://trainingvm:5173/api/v1/session/redirect/projects/?trace_id=0195c805-5b3b-71fb-8f23-4491e54c3013&path=aHR0cDovL3RyYWluaW5ndm06NTE3My9hcGkv.\n",
      "Evaluation: 100%|██████████| 50/50 [00:15<00:00,  3.15it/s]\n"
     ]
    },
    {
     "data": {
      "text/html": [
       "<pre style=\"white-space:pre;overflow-x:auto;line-height:normal;font-family:Menlo,'DejaVu Sans Mono',consolas,'Courier New',monospace\">╭─ OpenAIModerationDataset (50 samples) ─╮\n",
       "│                                        │\n",
       "│ <span style=\"font-weight: bold\">Total time:       </span> 00:00:16            │\n",
       "│ <span style=\"font-weight: bold\">Number of samples:</span> 50                  │\n",
       "│                                        │\n",
       "│ <span style=\"color: #008000; text-decoration-color: #008000; font-weight: bold\">Correct moderation score: 0.8400 (avg)</span> │\n",
       "│                                        │\n",
       "╰────────────────────────────────────────╯\n",
       "</pre>\n"
      ],
      "text/plain": [
       "╭─ OpenAIModerationDataset (50 samples) ─╮\n",
       "│                                        │\n",
       "│ \u001b[1mTotal time:       \u001b[0m 00:00:16            │\n",
       "│ \u001b[1mNumber of samples:\u001b[0m 50                  │\n",
       "│                                        │\n",
       "│ \u001b[1;32mCorrect moderation score: 0.8400 (avg)\u001b[0m │\n",
       "│                                        │\n",
       "╰────────────────────────────────────────╯\n"
      ]
     },
     "metadata": {},
     "output_type": "display_data"
    },
    {
     "data": {
      "text/html": [
       "<pre style=\"white-space:pre;overflow-x:auto;line-height:normal;font-family:Menlo,'DejaVu Sans Mono',consolas,'Courier New',monospace\">Uploading results to Opik <span style=\"color: #808000; text-decoration-color: #808000\">...</span> \n",
       "</pre>\n"
      ],
      "text/plain": [
       "Uploading results to Opik \u001b[33m...\u001b[0m \n"
      ]
     },
     "metadata": {},
     "output_type": "display_data"
    },
    {
     "data": {
      "text/html": [
       "<pre style=\"white-space:pre;overflow-x:auto;line-height:normal;font-family:Menlo,'DejaVu Sans Mono',consolas,'Courier New',monospace\">View the results <a href=\"http://trainingvm:5173/api/v1/session/redirect/experiments/?experiment_id=0195c805-5a37-7fa2-bb86-aa38f555114c&dataset_id=0195c804-d3d8-763c-b1a9-5f8da455c8a0&path=aHR0cDovL3RyYWluaW5ndm06NTE3My9hcGkv\" target=\"_blank\">in your Opik dashboard</a>.\n",
       "</pre>\n"
      ],
      "text/plain": [
       "View the results \u001b]8;id=276060;http://trainingvm:5173/api/v1/session/redirect/experiments/?experiment_id=0195c805-5a37-7fa2-bb86-aa38f555114c&dataset_id=0195c804-d3d8-763c-b1a9-5f8da455c8a0&path=aHR0cDovL3RyYWluaW5ndm06NTE3My9hcGkv\u001b\\in your Opik dashboard\u001b]8;;\u001b\\.\n"
      ]
     },
     "metadata": {},
     "output_type": "display_data"
    }
   ],
   "source": [
    "from opik.evaluation.metrics import Moderation, Equals\n",
    "from opik.evaluation import evaluate\n",
    "from opik import Opik\n",
    "from opik.evaluation.metrics.llm_judges.moderation.template import generate_query\n",
    "from typing import Dict\n",
    "\n",
    "\n",
    "# Define the evaluation task\n",
    "def evaluation_task(x: Dict):\n",
    "    metric = Moderation()\n",
    "    try:\n",
    "        metric_score = metric.score(output=x[\"output\"])\n",
    "        moderation_score = \"moderated\" if metric_score.value > 0.5 else \"not_moderated\"\n",
    "        moderation_reason = metric_score.reason\n",
    "    except Exception as e:\n",
    "        print(e)\n",
    "        moderation_score = None\n",
    "        moderation_reason = str(e)\n",
    "\n",
    "    return {\n",
    "        \"moderation_score\": moderation_score,\n",
    "        \"moderation_reason\": moderation_reason,\n",
    "    }\n",
    "\n",
    "\n",
    "# Get the dataset\n",
    "client = Opik()\n",
    "dataset = client.get_dataset(name=\"OpenAIModerationDataset\")\n",
    "\n",
    "# Define the scoring metric\n",
    "moderation_metric = Equals(name=\"Correct moderation score\")\n",
    "\n",
    "# Add the prompt template as an experiment configuration\n",
    "experiment_config = {\n",
    "    \"prompt_template\": generate_query(output=\"{output}\", few_shot_examples=[])\n",
    "}\n",
    "\n",
    "res = evaluate(\n",
    "    dataset=dataset,\n",
    "    task=evaluation_task,\n",
    "    scoring_metrics=[moderation_metric],\n",
    "    experiment_config=experiment_config,\n",
    "    scoring_key_mapping={\"reference\": \"expected_output\", \"output\": \"moderation_score\"},\n",
    ")"
   ]
  }
 ],
 "metadata": {
  "kernelspec": {
   "display_name": "env",
   "language": "python",
   "name": "python3"
  },
  "language_info": {
   "codemirror_mode": {
    "name": "ipython",
    "version": 3
   },
   "file_extension": ".py",
   "mimetype": "text/x-python",
   "name": "python",
   "nbconvert_exporter": "python",
   "pygments_lexer": "ipython3",
   "version": "3.13.1"
  }
 },
 "nbformat": 4,
 "nbformat_minor": 2
}
