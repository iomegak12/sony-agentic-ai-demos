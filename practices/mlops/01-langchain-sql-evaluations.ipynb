{
 "cells": [
  {
   "cell_type": "code",
   "execution_count": 1,
   "metadata": {},
   "outputs": [
    {
     "data": {
      "text/plain": [
       "True"
      ]
     },
     "execution_count": 1,
     "metadata": {},
     "output_type": "execute_result"
    }
   ],
   "source": [
    "import os\n",
    "from dotenv import load_dotenv\n",
    "\n",
    "load_dotenv()"
   ]
  },
  {
   "cell_type": "code",
   "execution_count": 2,
   "metadata": {},
   "outputs": [
    {
     "name": "stdout",
     "output_type": "stream",
     "text": [
      "Chinook database downloaded\n"
     ]
    }
   ],
   "source": [
    "# Download the relevant data\n",
    "import os\n",
    "from langchain_community.utilities import SQLDatabase\n",
    "\n",
    "import requests\n",
    "import os\n",
    "\n",
    "url = \"https://github.com/lerocha/chinook-database/raw/master/ChinookDatabase/DataSources/Chinook_Sqlite.sqlite\"\n",
    "filename = \"./data/chinook/Chinook_Sqlite.sqlite\"\n",
    "\n",
    "folder = os.path.dirname(filename)\n",
    "\n",
    "if not os.path.exists(folder):\n",
    "    os.makedirs(folder)\n",
    "\n",
    "if not os.path.exists(filename):\n",
    "    response = requests.get(url)\n",
    "    with open(filename, \"wb\") as file:\n",
    "        file.write(response.content)\n",
    "    print(\"Chinook database downloaded\")\n",
    "\n",
    "db = SQLDatabase.from_uri(f\"sqlite:///{filename}\")"
   ]
  },
  {
   "cell_type": "code",
   "execution_count": 3,
   "metadata": {},
   "outputs": [
    {
     "name": "stderr",
     "output_type": "stream",
     "text": [
      "OPIK: Started logging traces to the \"langchain-integration-demo\" project at http://trainingvm:5173/api/v1/session/redirect/projects/?trace_id=0195c7ed-5aae-77cd-82b8-571bdc32664f&path=aHR0cDovL3RyYWluaW5ndm06NTE3My9hcGkv.\n"
     ]
    },
    {
     "name": "stdout",
     "output_type": "stream",
     "text": [
      "{\n",
      "    \"result\": [\n",
      "        \"Which customer has spent the most money on purchases?\",\n",
      "        \"What is the average total price of all invoices for customers from the USA?\",\n",
      "        \"Which genre has the highest total sales revenue?\",\n",
      "        \"How many tracks belong to the genre 'Rock' and were purchased by customers from the USA?\",\n",
      "        \"What is the average number of tracks in each playlist?\",\n",
      "        \"Which customer has the highest total number of purchased tracks?\",\n",
      "        \"What is the total revenue from digital purchases for customers from Canada?\",\n",
      "        \"Which employee has the highest total sales revenue?\",\n",
      "        \"How many customers have made more than 10 purchases?\",\n",
      "        \"What is the average total price of invoices for each employee?\",\n",
      "        \"Which artist has the highest total sales revenue?\",\n",
      "        \"What is the average total time of all playlists?\",\n",
      "        \"How many tracks were sold in each country?\",\n",
      "        \"What is the total revenue from all purchases in the year 2013?\",\n",
      "        \"Which genre has the highest average total price per track?\",\n",
      "        \"How many customers have made purchases in every genre?\",\n",
      "        \"What is the average total revenue per track for each artist?\",\n",
      "        \"Which employee generated the most revenue in each quarter of the year?\",\n",
      "        \"How many unique tracks were purchased in each playlist?\",\n",
      "        \"What is the total revenue from each sales support agent?\"\n",
      "    ]\n",
      "}\n"
     ]
    }
   ],
   "source": [
    "from opik.integrations.openai import track_openai\n",
    "from openai import OpenAI\n",
    "import json\n",
    "\n",
    "os.environ[\"OPIK_PROJECT_NAME\"] = \"langchain-integration-demo\"\n",
    "client = OpenAI()\n",
    "\n",
    "openai_client = track_openai(client)\n",
    "\n",
    "prompt = \"\"\"\n",
    "Create 20 different example questions a user might ask based on the Chinook Database.\n",
    "\n",
    "These questions should be complex and require the model to think. They should include complex joins and window functions to answer.\n",
    "\n",
    "Return the response as a json object with a \"result\" key and an array of strings with the question.\n",
    "\"\"\"\n",
    "\n",
    "completion = openai_client.chat.completions.create(\n",
    "    model=\"gpt-3.5-turbo\", messages=[{\"role\": \"user\", \"content\": prompt}]\n",
    ")\n",
    "\n",
    "print(completion.choices[0].message.content)"
   ]
  },
  {
   "cell_type": "code",
   "execution_count": 4,
   "metadata": {},
   "outputs": [
    {
     "name": "stderr",
     "output_type": "stream",
     "text": [
      "OPIK: Created a \"synthetic_questions\" dataset at http://trainingvm:5173/api/v1/session/redirect/datasets/?dataset_id=0195c7ee-0c53-7384-adae-905a39aa4f68&path=aHR0cDovL3RyYWluaW5ndm06NTE3My9hcGkv.\n"
     ]
    }
   ],
   "source": [
    "# Create the synthetic dataset\n",
    "import opik\n",
    "\n",
    "synthetic_questions = json.loads(completion.choices[0].message.content)[\"result\"]\n",
    "\n",
    "client = opik.Opik()\n",
    "\n",
    "dataset = client.get_or_create_dataset(name=\"synthetic_questions\")\n",
    "dataset.insert([{\"question\": question} for question in synthetic_questions])"
   ]
  },
  {
   "cell_type": "code",
   "execution_count": 5,
   "metadata": {},
   "outputs": [
    {
     "name": "stdout",
     "output_type": "stream",
     "text": [
      "SELECT COUNT(\"EmployeeId\") AS \"TotalEmployees\" FROM \"Employee\"\n"
     ]
    }
   ],
   "source": [
    "# Use langchain to create a SQL query to answer the question\n",
    "from langchain.chains import create_sql_query_chain\n",
    "from langchain_openai import ChatOpenAI\n",
    "from opik.integrations.langchain import OpikTracer\n",
    "\n",
    "opik_tracer = OpikTracer(tags=[\"simple_chain\"])\n",
    "\n",
    "llm = ChatOpenAI(model=\"gpt-3.5-turbo\", temperature=0)\n",
    "chain = create_sql_query_chain(llm, db).with_config({\"callbacks\": [opik_tracer]})\n",
    "response = chain.invoke({\"question\": \"How many employees are there ?\"})\n",
    "response\n",
    "\n",
    "print(response)"
   ]
  },
  {
   "cell_type": "code",
   "execution_count": 6,
   "metadata": {},
   "outputs": [
    {
     "name": "stderr",
     "output_type": "stream",
     "text": [
      "Evaluation: 100%|██████████| 20/20 [00:05<00:00,  3.78it/s]\n"
     ]
    },
    {
     "data": {
      "text/html": [
       "<pre style=\"white-space:pre;overflow-x:auto;line-height:normal;font-family:Menlo,'DejaVu Sans Mono',consolas,'Courier New',monospace\">╭─ synthetic_questions (20 samples) ─╮\n",
       "│                                    │\n",
       "│ <span style=\"font-weight: bold\">Total time:       </span> 00:00:05        │\n",
       "│ <span style=\"font-weight: bold\">Number of samples:</span> 20              │\n",
       "│                                    │\n",
       "│ <span style=\"color: #008000; text-decoration-color: #008000; font-weight: bold\">valid_sql_query: 0.8000 (avg)</span>      │\n",
       "│                                    │\n",
       "╰────────────────────────────────────╯\n",
       "</pre>\n"
      ],
      "text/plain": [
       "╭─ synthetic_questions (20 samples) ─╮\n",
       "│                                    │\n",
       "│ \u001b[1mTotal time:       \u001b[0m 00:00:05        │\n",
       "│ \u001b[1mNumber of samples:\u001b[0m 20              │\n",
       "│                                    │\n",
       "│ \u001b[1;32mvalid_sql_query: 0.8000 (avg)\u001b[0m      │\n",
       "│                                    │\n",
       "╰────────────────────────────────────╯\n"
      ]
     },
     "metadata": {},
     "output_type": "display_data"
    },
    {
     "data": {
      "text/html": [
       "<pre style=\"white-space:pre;overflow-x:auto;line-height:normal;font-family:Menlo,'DejaVu Sans Mono',consolas,'Courier New',monospace\">Uploading results to Opik <span style=\"color: #808000; text-decoration-color: #808000\">...</span> \n",
       "</pre>\n"
      ],
      "text/plain": [
       "Uploading results to Opik \u001b[33m...\u001b[0m \n"
      ]
     },
     "metadata": {},
     "output_type": "display_data"
    },
    {
     "data": {
      "text/html": [
       "<pre style=\"white-space:pre;overflow-x:auto;line-height:normal;font-family:Menlo,'DejaVu Sans Mono',consolas,'Courier New',monospace\">View the results <a href=\"http://trainingvm:5173/api/v1/session/redirect/experiments/?experiment_id=0195c7ef-479f-7589-8cac-798d8c449cb1&dataset_id=0195c7ee-0c53-7384-adae-905a39aa4f68&path=aHR0cDovL3RyYWluaW5ndm06NTE3My9hcGkv\" target=\"_blank\">in your Opik dashboard</a>.\n",
       "</pre>\n"
      ],
      "text/plain": [
       "View the results \u001b]8;id=791513;http://trainingvm:5173/api/v1/session/redirect/experiments/?experiment_id=0195c7ef-479f-7589-8cac-798d8c449cb1&dataset_id=0195c7ee-0c53-7384-adae-905a39aa4f68&path=aHR0cDovL3RyYWluaW5ndm06NTE3My9hcGkv\u001b\\in your Opik dashboard\u001b]8;;\u001b\\.\n"
      ]
     },
     "metadata": {},
     "output_type": "display_data"
    }
   ],
   "source": [
    "from opik import Opik, track\n",
    "from opik.evaluation import evaluate\n",
    "from opik.evaluation.metrics import base_metric, score_result\n",
    "from typing import Any\n",
    "\n",
    "\n",
    "class ValidSQLQuery(base_metric.BaseMetric):\n",
    "    def __init__(self, name: str, db: Any):\n",
    "        self.name = name\n",
    "        self.db = db\n",
    "\n",
    "    def score(self, output: str, **ignored_kwargs: Any):\n",
    "        # Add you logic here\n",
    "\n",
    "        try:\n",
    "            db.run(output)\n",
    "            return score_result.ScoreResult(\n",
    "                name=self.name, value=1, reason=\"Query ran successfully\"\n",
    "            )\n",
    "        except Exception as e:\n",
    "            return score_result.ScoreResult(name=self.name, value=0, reason=str(e))\n",
    "\n",
    "\n",
    "valid_sql_query = ValidSQLQuery(name=\"valid_sql_query\", db=db)\n",
    "\n",
    "client = Opik()\n",
    "dataset = client.get_dataset(\"synthetic_questions\")\n",
    "\n",
    "\n",
    "@track()\n",
    "def llm_chain(input: str) -> str:\n",
    "    response = chain.invoke({\"question\": input})\n",
    "\n",
    "    return response\n",
    "\n",
    "\n",
    "def evaluation_task(item):\n",
    "    response = llm_chain(item[\"question\"])\n",
    "\n",
    "    return {\"output\": response}\n",
    "\n",
    "\n",
    "res = evaluate(\n",
    "    experiment_name=\"SQL question answering\",\n",
    "    dataset=dataset,\n",
    "    task=evaluation_task,\n",
    "    scoring_metrics=[valid_sql_query],\n",
    "    nb_samples=20,\n",
    ")"
   ]
  }
 ],
 "metadata": {
  "kernelspec": {
   "display_name": "env",
   "language": "python",
   "name": "python3"
  },
  "language_info": {
   "codemirror_mode": {
    "name": "ipython",
    "version": 3
   },
   "file_extension": ".py",
   "mimetype": "text/x-python",
   "name": "python",
   "nbconvert_exporter": "python",
   "pygments_lexer": "ipython3",
   "version": "3.13.1"
  }
 },
 "nbformat": 4,
 "nbformat_minor": 2
}
