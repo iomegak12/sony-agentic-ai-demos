{
 "cells": [
  {
   "cell_type": "code",
   "execution_count": 1,
   "metadata": {},
   "outputs": [],
   "source": [
    "import opik\n",
    "\n",
    "opik.configure(use_local=True, url='http://trainingvm:5173')"
   ]
  },
  {
   "cell_type": "code",
   "execution_count": 2,
   "metadata": {},
   "outputs": [
    {
     "data": {
      "text/plain": [
       "True"
      ]
     },
     "execution_count": 2,
     "metadata": {},
     "output_type": "execute_result"
    }
   ],
   "source": [
    "import os\n",
    "from dotenv import load_dotenv\n",
    "\n",
    "load_dotenv()"
   ]
  },
  {
   "cell_type": "code",
   "execution_count": 3,
   "metadata": {},
   "outputs": [
    {
     "name": "stderr",
     "output_type": "stream",
     "text": [
      "OPIK: Created a \"HaluEval\" dataset at http://trainingvm:5173/api/v1/session/redirect/datasets/?dataset_id=0195c7f9-76bd-7048-865e-2d8e3a7ef6c8&path=aHR0cDovL3RyYWluaW5ndm06NTE3My9hcGkv.\n",
      "c:\\demonstrations\\mlops\\env\\Lib\\site-packages\\tqdm\\auto.py:21: TqdmWarning: IProgress not found. Please update jupyter and ipywidgets. See https://ipywidgets.readthedocs.io/en/stable/user_install.html\n",
      "  from .autonotebook import tqdm as notebook_tqdm\n"
     ]
    }
   ],
   "source": [
    "# Create dataset\n",
    "import opik\n",
    "import pandas as pd\n",
    "\n",
    "client = opik.Opik()\n",
    "\n",
    "# Create dataset\n",
    "dataset = client.get_or_create_dataset(name=\"HaluEval\", description=\"HaluEval dataset\")\n",
    "\n",
    "# Insert items into dataset\n",
    "df = pd.read_parquet(\n",
    "    \"hf://datasets/pminervini/HaluEval/general/data-00000-of-00001.parquet\"\n",
    ")\n",
    "\n",
    "df = df.sample(n=50, random_state=42)\n",
    "\n",
    "dataset_records = [\n",
    "    {\n",
    "        \"input\": x[\"user_query\"],\n",
    "        \"llm_output\": x[\"chatgpt_response\"],\n",
    "        \"expected_hallucination_label\": x[\"hallucination\"],\n",
    "    }\n",
    "    for x in df.to_dict(orient=\"records\")\n",
    "]\n",
    "\n",
    "dataset.insert(dataset_records)"
   ]
  },
  {
   "cell_type": "code",
   "execution_count": 4,
   "metadata": {},
   "outputs": [
    {
     "name": "stderr",
     "output_type": "stream",
     "text": [
      "Evaluation:   0%|          | 0/50 [00:00<?, ?it/s]OPIK: Started logging traces to the \"Default Project\" project at http://trainingvm:5173/api/v1/session/redirect/projects/?trace_id=0195c7fa-176a-7f8b-8de8-59d2c6c57b66&path=aHR0cDovL3RyYWluaW5ndm06NTE3My9hcGkv.\n",
      "Evaluation: 100%|██████████| 50/50 [00:18<00:00,  2.71it/s]\n"
     ]
    },
    {
     "data": {
      "text/html": [
       "<pre style=\"white-space:pre;overflow-x:auto;line-height:normal;font-family:Menlo,'DejaVu Sans Mono',consolas,'Courier New',monospace\">╭─ HaluEval (50 samples) ───────────────────╮\n",
       "│                                           │\n",
       "│ <span style=\"font-weight: bold\">Total time:       </span> 00:00:18               │\n",
       "│ <span style=\"font-weight: bold\">Number of samples:</span> 50                     │\n",
       "│                                           │\n",
       "│ <span style=\"color: #008000; text-decoration-color: #008000; font-weight: bold\">Correct hallucination score: 0.7800 (avg)</span> │\n",
       "│                                           │\n",
       "╰───────────────────────────────────────────╯\n",
       "</pre>\n"
      ],
      "text/plain": [
       "╭─ HaluEval (50 samples) ───────────────────╮\n",
       "│                                           │\n",
       "│ \u001b[1mTotal time:       \u001b[0m 00:00:18               │\n",
       "│ \u001b[1mNumber of samples:\u001b[0m 50                     │\n",
       "│                                           │\n",
       "│ \u001b[1;32mCorrect hallucination score: 0.7800 (avg)\u001b[0m │\n",
       "│                                           │\n",
       "╰───────────────────────────────────────────╯\n"
      ]
     },
     "metadata": {},
     "output_type": "display_data"
    },
    {
     "data": {
      "text/html": [
       "<pre style=\"white-space:pre;overflow-x:auto;line-height:normal;font-family:Menlo,'DejaVu Sans Mono',consolas,'Courier New',monospace\">Uploading results to Opik <span style=\"color: #808000; text-decoration-color: #808000\">...</span> \n",
       "</pre>\n"
      ],
      "text/plain": [
       "Uploading results to Opik \u001b[33m...\u001b[0m \n"
      ]
     },
     "metadata": {},
     "output_type": "display_data"
    },
    {
     "data": {
      "text/html": [
       "<pre style=\"white-space:pre;overflow-x:auto;line-height:normal;font-family:Menlo,'DejaVu Sans Mono',consolas,'Courier New',monospace\">View the results <a href=\"http://trainingvm:5173/api/v1/session/redirect/experiments/?experiment_id=0195c7fa-164e-7ede-9425-73e40a6f6e59&dataset_id=0195c7f9-76bd-7048-865e-2d8e3a7ef6c8&path=aHR0cDovL3RyYWluaW5ndm06NTE3My9hcGkv\" target=\"_blank\">in your Opik dashboard</a>.\n",
       "</pre>\n"
      ],
      "text/plain": [
       "View the results \u001b]8;id=263986;http://trainingvm:5173/api/v1/session/redirect/experiments/?experiment_id=0195c7fa-164e-7ede-9425-73e40a6f6e59&dataset_id=0195c7f9-76bd-7048-865e-2d8e3a7ef6c8&path=aHR0cDovL3RyYWluaW5ndm06NTE3My9hcGkv\u001b\\in your Opik dashboard\u001b]8;;\u001b\\.\n"
      ]
     },
     "metadata": {},
     "output_type": "display_data"
    }
   ],
   "source": [
    "from opik.evaluation.metrics import Hallucination, Equals\n",
    "from opik.evaluation import evaluate\n",
    "from opik import Opik\n",
    "from opik.evaluation.metrics.llm_judges.hallucination.template import generate_query\n",
    "from typing import Dict\n",
    "\n",
    "\n",
    "# Define the evaluation task\n",
    "def evaluation_task(x: Dict):\n",
    "    metric = Hallucination()\n",
    "    try:\n",
    "        metric_score = metric.score(input=x[\"input\"], output=x[\"llm_output\"])\n",
    "        hallucination_score = metric_score.value\n",
    "        hallucination_reason = metric_score.reason\n",
    "    except Exception as e:\n",
    "        print(e)\n",
    "        hallucination_score = None\n",
    "        hallucination_reason = str(e)\n",
    "\n",
    "    return {\n",
    "        \"hallucination_score\": \"yes\" if hallucination_score == 1 else \"no\",\n",
    "        \"hallucination_reason\": hallucination_reason,\n",
    "    }\n",
    "\n",
    "\n",
    "# Get the dataset\n",
    "client = Opik()\n",
    "dataset = client.get_dataset(name=\"HaluEval\")\n",
    "\n",
    "# Define the scoring metric\n",
    "check_hallucinated_metric = Equals(name=\"Correct hallucination score\")\n",
    "\n",
    "# Add the prompt template as an experiment configuration\n",
    "experiment_config = {\n",
    "    \"prompt_template\": generate_query(\n",
    "        input=\"{input}\", context=\"{context}\", output=\"{output}\", few_shot_examples=[]\n",
    "    )\n",
    "}\n",
    "\n",
    "res = evaluate(\n",
    "    dataset=dataset,\n",
    "    task=evaluation_task,\n",
    "    scoring_metrics=[check_hallucinated_metric],\n",
    "    experiment_config=experiment_config,\n",
    "    scoring_key_mapping={\n",
    "        \"reference\": \"expected_hallucination_label\",\n",
    "        \"output\": \"hallucination_score\",\n",
    "    },\n",
    ")"
   ]
  }
 ],
 "metadata": {
  "kernelspec": {
   "display_name": "env",
   "language": "python",
   "name": "python3"
  },
  "language_info": {
   "codemirror_mode": {
    "name": "ipython",
    "version": 3
   },
   "file_extension": ".py",
   "mimetype": "text/x-python",
   "name": "python",
   "nbconvert_exporter": "python",
   "pygments_lexer": "ipython3",
   "version": "3.13.1"
  }
 },
 "nbformat": 4,
 "nbformat_minor": 2
}
