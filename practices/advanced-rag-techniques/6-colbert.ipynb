{
 "cells": [
  {
   "cell_type": "markdown",
   "metadata": {},
   "source": [
    "#### ColBERT"
   ]
  },
  {
   "cell_type": "markdown",
   "metadata": {},
   "source": [
    "##### Execute this in the COLAB"
   ]
  },
  {
   "cell_type": "code",
   "execution_count": null,
   "metadata": {},
   "outputs": [],
   "source": [
    "%pip install ragatouille -qU"
   ]
  },
  {
   "cell_type": "code",
   "execution_count": null,
   "metadata": {},
   "outputs": [],
   "source": [
    "from ragatouille import RAGPretrainedModel\n",
    "from ragatouille.utils import get_wikipedia_page\n",
    "\n",
    "RAG = RAGPretrainedModel.from_pretrained(\"colbert-ir/colbertv2.0\")\n",
    "my_documents = [get_wikipedia_page(\"Hayao_Miyazaki\"), get_wikipedia_page(\"Studio_Ghibli\")]\n",
    "\n",
    "document_ids = [\"miyazaki\", \"ghibli\"]\n",
    "\n",
    "document_metadatas = [\n",
    "    {\"entity\": \"person\", \"source\": \"wikipedia\"},\n",
    "    {\"entity\": \"organisation\", \"source\": \"wikipedia\"},\n",
    "]\n",
    "\n",
    "index_path = RAG.index(\n",
    "    index_name=\"my_index_with_ids_and_metadata\",\n",
    "    collection=my_documents,\n",
    "    document_ids=document_ids,\n",
    "    document_metadatas=document_metadatas,\n",
    ")\n"
   ]
  },
  {
   "cell_type": "code",
   "execution_count": null,
   "metadata": {},
   "outputs": [],
   "source": [
    "RAG.search([\n",
    "    \"What manga did Hayao Miyazaki write?\",\n",
    "    \"Who are the founders of Ghibli?\"\n",
    "    \"Who is the director of Spirited Away?\"\n",
    "],)\n",
    "\n"
   ]
  }
 ],
 "metadata": {
  "kernelspec": {
   "display_name": "Python 3",
   "language": "python",
   "name": "python3"
  },
  "language_info": {
   "codemirror_mode": {
    "name": "ipython",
    "version": 3
   },
   "file_extension": ".py",
   "mimetype": "text/x-python",
   "name": "python",
   "nbconvert_exporter": "python",
   "pygments_lexer": "ipython3",
   "version": "3.10.5"
  }
 },
 "nbformat": 4,
 "nbformat_minor": 2
}
